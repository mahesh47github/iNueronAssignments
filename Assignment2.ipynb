{
 "cells": [
  {
   "cell_type": "markdown",
   "metadata": {},
   "source": [
    "# Task 1:"
   ]
  },
  {
   "cell_type": "markdown",
   "metadata": {},
   "source": [
    "1.1\n",
    "Write a Python Program to implement your own myreduce() function which works exactly like\n",
    "Python's built-in function reduce()"
   ]
  },
  {
   "cell_type": "code",
   "execution_count": 5,
   "metadata": {},
   "outputs": [
    {
     "name": "stdout",
     "output_type": "stream",
     "text": [
      "20\n",
      "144\n"
     ]
    }
   ],
   "source": [
    "def custom_reduce(my_reduce_fun,mySeq,accumulator):\n",
    "    for eachItem in mySeq:\n",
    "        accumulator = my_reduce_fun(accumulator,eachItem)\n",
    "    return accumulator\n",
    "\n",
    "print(custom_reduce(lambda x,y:x+y,[1,8,9,2],0))\n",
    "print(custom_reduce(lambda x,y:x*y,[1,8,9,2],1))"
   ]
  },
  {
   "cell_type": "markdown",
   "metadata": {},
   "source": [
    "1.2\n",
    "Write a Python program to implement your own myfilter() function which works exactly like\n",
    "Python's built-in function filter()"
   ]
  },
  {
   "cell_type": "code",
   "execution_count": 10,
   "metadata": {},
   "outputs": [
    {
     "data": {
      "text/plain": [
       "[4, 8, 2, 22]"
      ]
     },
     "execution_count": 10,
     "metadata": {},
     "output_type": "execute_result"
    }
   ],
   "source": [
    "def custom_filter(my_filter_fun,mySeq):\n",
    "    init=[]\n",
    "    for eachItem in mySeq:\n",
    "        if (my_filter_fun(eachItem)):\n",
    "            init.append(eachItem) \n",
    "    return init\n",
    "\n",
    "custom_filter(lambda x: True if (x%2==0)  else False,[1,5,4,8,9,2,11,22])"
   ]
  },
  {
   "cell_type": "raw",
   "metadata": {},
   "source": [
    "2.\n",
    "Implement List comprehensions to produce the following lists.\n",
    "Write List comprehensions to produce the following Lists\n",
    "['A', 'C', 'A', 'D', 'G', 'I', ’L’, ‘ D’]\n",
    "['x', 'xx', 'xxx', 'xxxx', 'y', 'yy', 'yyy', 'yyyy', 'z', 'zz', 'zzz', 'zzzz']\n",
    "['x', 'y', 'z', 'xx', 'yy', 'zz', 'xx', 'yy', 'zz', 'xxxx', 'yyyy', 'zzzz']\n",
    "[[2], [3], [4], [3], [4], [5], [4], [5], [6]]\n",
    "[[2, 3, 4, 5], [3, 4, 5, 6], [4, 5, 6, 7], [5, 6, 7, 8]]\n",
    "[(1, 1), (2, 1), (3, 1), (1, 2), (2, 2), (3, 2), (1, 3), (2, 3), (3, 3)]\n"
   ]
  },
  {
   "cell_type": "code",
   "execution_count": 109,
   "metadata": {},
   "outputs": [
    {
     "name": "stdout",
     "output_type": "stream",
     "text": [
      "['A', 'C', 'A', 'D', 'G', 'I', 'L', 'D']\n",
      "['x', 'xx', 'xxx', 'xxxx', 'y', 'yy', 'yyy', 'yyyy', 'z', 'zz', 'zzz', 'zzzz']\n",
      "['x', 'y', 'z', 'xx', 'yy', 'zz', 'xxx', 'yyy', 'zzz', 'xxxx', 'yyyy', 'zzzz']\n",
      "[[2], [3], [4], [3], [4], [5], [4], [5], [6]]\n",
      "[[2, 3, 4, 5], [3, 4, 5, 6], [4, 5, 6, 7], [5, 6, 7, 8]]\n",
      "[(1, 1), (2, 1), (3, 1), (1, 2), (2, 2), (3, 2), (1, 3), (2, 3), (3, 3)]\n"
     ]
    }
   ],
   "source": [
    "print([item for item in \"ACADGILD\"])\n",
    "#res1=[[item,item*2,item*3,item*4] for item in ['x','y','z'] if item!='x']\n",
    "#res1[]\n",
    "sample_list=['x','y','z']\n",
    "print([i*j for i in sample_list for j in range(1,5) ])\n",
    "print([j*i for i in range(1,5) for j in sample_list ])\n",
    "print([[num+i] for num in range(0,3)  for i in [2,3,4]])\n",
    "#print([[map(lambda x:x+i,[2,3,4,5])] for i in range(0,4) ])\n",
    "print([[ each_item+i for each_item in [2,3,4,5]] for i in range(0,4) ])\n",
    "print([ (j,i) for i in range(1,4) for j in range(1,4)])"
   ]
  },
  {
   "cell_type": "markdown",
   "metadata": {},
   "source": [
    "# Task 2:"
   ]
  },
  {
   "cell_type": "markdown",
   "metadata": {},
   "source": [
    "1.1\n",
    "Write a Python Program(with class concepts) to find the area of the triangle using the below\n",
    "formula.\n",
    "area = (s*(s-a)*(s-b)*(s-c)) ** 0.5\n",
    "Function to take the length of the sides of triangle from user should be defined in the parent\n",
    "class and function to calculate the area should be defined in subclass."
   ]
  },
  {
   "cell_type": "code",
   "execution_count": 18,
   "metadata": {},
   "outputs": [
    {
     "name": "stdout",
     "output_type": "stream",
     "text": [
      "Enter value of s5\n",
      "Enter value of a4\n",
      "Enter value of b3\n",
      "Enter value of c2\n"
     ]
    },
    {
     "data": {
      "text/plain": [
       "15.0"
      ]
     },
     "execution_count": 18,
     "metadata": {},
     "output_type": "execute_result"
    }
   ],
   "source": [
    "class Parent:\n",
    "    def __init__(self):\n",
    "        self.s =int(input(\"Enter value of s\"))\n",
    "        self.a =int(input(\"Enter value of a\"))\n",
    "        self.b =int(input(\"Enter value of b\"))\n",
    "        self.c =int(input(\"Enter value of c\"))\n",
    "        \n",
    "class Child(Parent):\n",
    "#     Parent.__init__(self,*args)\n",
    "    def __init__(self,*args):\n",
    "        Parent.__init__(self)\n",
    "                \n",
    "    def calculate_triangle_area(self):\n",
    "        return self.s*(self.s-self.a)*(self.s-self.b)*(self.s-self.c) * 0.5\n",
    "\n",
    "    \n",
    "child_obj = Child()\n",
    "child_obj.calculate_triangle_area()\n",
    "#print(child_obj)\n",
    "#child_obj.calculate_triangle_area()\n",
    "\n",
    "#child_obj.calculate_triangle_area()\n",
    "    "
   ]
  },
  {
   "cell_type": "markdown",
   "metadata": {},
   "source": [
    "1.2\n",
    "Write a function filter_long_words() that takes a list of words and an integer n and returns the list\n",
    "of words that are longer than n."
   ]
  },
  {
   "cell_type": "code",
   "execution_count": 65,
   "metadata": {},
   "outputs": [
    {
     "data": {
      "text/plain": [
       "['defg', 'mahesh']"
      ]
     },
     "execution_count": 65,
     "metadata": {},
     "output_type": "execute_result"
    }
   ],
   "source": [
    "def filter_long_words(lengthCheck,word_list):\n",
    "    return [eachItem for eachItem in word_list if(len(eachItem)>lengthCheck)]\n",
    "\n",
    "filter_long_words(3,[\"abc\",\"defg\",\"mahesh\",\"de\"])"
   ]
  },
  {
   "cell_type": "markdown",
   "metadata": {
    "collapsed": true
   },
   "source": [
    "2.1\n",
    "Write a Python program using function concept that maps list of words into a list of integers\n",
    "representing the lengths of the corresponding words .\n",
    "Hint: If a list [ ab,cde,erty] is passed on to the python function output should come as [2,3,4]\n",
    "Here 2,3 and 4 are the lengths of the words in the list."
   ]
  },
  {
   "cell_type": "code",
   "execution_count": 70,
   "metadata": {},
   "outputs": [
    {
     "data": {
      "text/plain": [
       "[3, 4, 6, 2]"
      ]
     },
     "execution_count": 70,
     "metadata": {},
     "output_type": "execute_result"
    }
   ],
   "source": [
    "def get_str_length(list_of_words):\n",
    "    #return map(lambda x:len(x),list_of_words)\n",
    "    return [len(eachItem) for eachItem in list_of_words]\n",
    "\n",
    "\n",
    "get_str_length([\"abc\",\"defg\",\"mahesh\",\"de\"])\n"
   ]
  },
  {
   "cell_type": "markdown",
   "metadata": {},
   "source": [
    "2.2\n",
    "Write a Python function which takes a character (i.e. a string of length 1) and returns True if it is\n",
    "a vowel, False otherwise.\n"
   ]
  },
  {
   "cell_type": "code",
   "execution_count": 75,
   "metadata": {},
   "outputs": [
    {
     "name": "stdout",
     "output_type": "stream",
     "text": [
      "True\n",
      "False\n"
     ]
    }
   ],
   "source": [
    "vowels = ['a','e','i','o','u']\n",
    "\n",
    "def is_char_vowel(my_char):\n",
    "    return my_char in vowels\n",
    "\n",
    "print(is_char_vowel('a'))\n",
    "print(is_char_vowel('z'))"
   ]
  },
  {
   "cell_type": "code",
   "execution_count": 102,
   "metadata": {},
   "outputs": [
    {
     "data": {
      "text/plain": [
       "<map at 0x1668d15f438>"
      ]
     },
     "execution_count": 102,
     "metadata": {},
     "output_type": "execute_result"
    }
   ],
   "source": [
    "map(lambda x:x+1,[1,2,3])"
   ]
  }
 ],
 "metadata": {
  "kernelspec": {
   "display_name": "Python 3",
   "language": "python",
   "name": "python3"
  },
  "language_info": {
   "codemirror_mode": {
    "name": "ipython",
    "version": 3
   },
   "file_extension": ".py",
   "mimetype": "text/x-python",
   "name": "python",
   "nbconvert_exporter": "python",
   "pygments_lexer": "ipython3",
   "version": "3.7.3"
  }
 },
 "nbformat": 4,
 "nbformat_minor": 2
}
